{
 "cells": [
  {
   "attachments": {},
   "cell_type": "markdown",
   "metadata": {},
   "source": [
    "### Basic test: all blas present"
   ]
  },
  {
   "cell_type": "code",
   "execution_count": 2,
   "metadata": {},
   "outputs": [
    {
     "name": "stdout",
     "output_type": "stream",
     "text": [
      "Number of functions implemented: 164\n",
      "Implemented but not in todo: set()\n",
      "Todo but not implemented:    set()\n"
     ]
    }
   ],
   "source": [
    "import json\n",
    "import lib.c_fct as c_fct\n",
    "j = None\n",
    "\n",
    "with open('data/blases.json') as f:\n",
    "    j = json.load(f)\n",
    "    f.close()\n",
    "\n",
    "c_fcts = c_fct.fcts_in(\"data/blas.h\")\n",
    "\n",
    "impl = set(j[\"hash\"].keys())\n",
    "todo = set([fct.name for fct in c_fcts])\n",
    "\n",
    "print(f'Number of functions implemented: {len(impl)}')\n",
    "print(f'Implemented but not in todo: {impl-todo}')\n",
    "print(f'Todo but not implemented:    {todo-impl}')"
   ]
  },
  {
   "attachments": {},
   "cell_type": "markdown",
   "metadata": {},
   "source": [
    "### Reading arguments"
   ]
  },
  {
   "cell_type": "code",
   "execution_count": 1,
   "metadata": {},
   "outputs": [
    {
     "name": "stdout",
     "output_type": "stream",
     "text": [
      "sdsdot\t['n', 'alpha', 'x', 'incx', 'y', 'incy']\n",
      "dsdot\t['n', 'x', 'incx', 'y', 'incy']\n",
      "sdot\t['n', 'x', 'incx', 'y', 'incy']\n",
      "ddot\t['n', 'x', 'incx', 'y', 'incy']\n",
      "cdotu\t['n', 'x', 'incx', 'y', 'incy']\n",
      "cdotc\t['n', 'x', 'incx', 'y', 'incy']\n",
      "zdotu\t['n', 'x', 'incx', 'y', 'incy']\n",
      "zdotc\t['n', 'x', 'incx', 'y', 'incy']\n",
      "isamax\t['n', 'x', 'incx']\n",
      "idamax\t['n', 'x', 'incx']\n",
      "icamax\t['n', 'x', 'incx']\n",
      "izamax\t['n', 'x', 'incx']\n",
      "isamin\t['n', 'x', 'incx']\n",
      "idamin\t['n', 'x', 'incx']\n",
      "icamin\t['n', 'x', 'incx']\n",
      "izamin\t['n', 'x', 'incx']\n",
      "ismax\t['n', 'x', 'incx']\n",
      "idmax\t['n', 'x', 'incx']\n",
      "icmax\t['n', 'x', 'incx']\n",
      "izmax\t['n', 'x', 'incx']\n",
      "ismin\t['n', 'x', 'incx']\n",
      "idmin\t['n', 'x', 'incx']\n",
      "icmin\t['n', 'x', 'incx']\n",
      "izmin\t['n', 'x', 'incx']\n",
      "sasum\t['n', 'x', 'incx']\n",
      "dasum\t['n', 'x', 'incx']\n",
      "scasum\t['n', 'x', 'incx']\n",
      "dzasum\t['n', 'x', 'incx']\n",
      "ssum\t['n', 'x', 'incx']\n",
      "dsum\t['n', 'x', 'incx']\n",
      "scsum\t['n', 'x', 'incx']\n",
      "dzsum\t['n', 'x', 'incx']\n",
      "saxpy\t['n', 'alpha', 'x', 'incx', 'y', 'incy']\n",
      "daxpy\t['n', 'alpha', 'x', 'incx', 'y', 'incy']\n",
      "caxpy\t['n', 'alpha', 'x', 'incx', 'y', 'incy']\n",
      "zaxpy\t['n', 'alpha', 'x', 'incx', 'y', 'incy']\n",
      "scopy\t['n', 'x', 'incx', 'y', 'incy']\n",
      "dcopy\t['n', 'x', 'incx', 'y', 'incy']\n",
      "ccopy\t['n', 'x', 'incx', 'y', 'incy']\n",
      "zcopy\t['n', 'x', 'incx', 'y', 'incy']\n",
      "sswap\t['n', 'x', 'incx', 'y', 'incy']\n",
      "dswap\t['n', 'x', 'incx', 'y', 'incy']\n",
      "cswap\t['n', 'x', 'incx', 'y', 'incy']\n",
      "zswap\t['n', 'x', 'incx', 'y', 'incy']\n",
      "srot\t['n', 'x', 'incx', 'y', 'incy', 'c', 's']\n",
      "drot\t['n', 'x', 'incx', 'y', 'incy', 'c', 's']\n",
      "csrot\t['n', 'x', 'incx', 'y', 'incy', 'c', 's']\n",
      "zdrot\t['n', 'x', 'incx', 'y', 'incy', 'c', 's']\n",
      "srotg\t['a', 'b', 'c', 's']\n",
      "drotg\t['a', 'b', 'c', 's']\n",
      "crotg\t['a', 'b', 'c', 's']\n",
      "zrotg\t['a', 'b', 'c', 's']\n",
      "srotm\t['n', 'x', 'incx', 'y', 'incy', 'p']\n",
      "drotm\t['n', 'x', 'incx', 'y', 'incy', 'p']\n",
      "srotmg\t['d1', 'd2', 'b1', 'b2', 'p']\n",
      "drotmg\t['d1', 'd2', 'b1', 'b2', 'p']\n",
      "sscal\t['n', 'alpha', 'x', 'incx']\n",
      "dscal\t['n', 'alpha', 'x', 'incx']\n",
      "cscal\t['n', 'alpha', 'x', 'incx']\n",
      "zscal\t['n', 'alpha', 'x', 'incx']\n",
      "csscal\t['n', 'alpha', 'x', 'incx']\n",
      "zdscal\t['n', 'alpha', 'x', 'incx']\n",
      "strsv\t['order', 'uplo', 'transa', 'diag', 'n', 'a', 'lda', 'x', 'incx']\n",
      "dtrsv\t['order', 'uplo', 'transa', 'diag', 'n', 'a', 'lda', 'x', 'incx']\n",
      "ctrsv\t['order', 'uplo', 'transa', 'diag', 'n', 'a', 'lda', 'x', 'incx']\n",
      "ztrsv\t['order', 'uplo', 'transa', 'diag', 'n', 'a', 'lda', 'x', 'incx']\n",
      "sgemv\t['order', 'trans', 'm', 'n', 'alpha', 'a', 'lda', 'x', 'incx', 'beta', 'y', 'incy']\n",
      "dgemv\t['order', 'trans', 'm', 'n', 'alpha', 'a', 'lda', 'x', 'incx', 'beta', 'y', 'incy']\n",
      "cgemv\t['order', 'trans', 'm', 'n', 'alpha', 'a', 'lda', 'x', 'incx', 'beta', 'y', 'incy']\n",
      "zgemv\t['order', 'trans', 'm', 'n', 'alpha', 'a', 'lda', 'x', 'incx', 'beta', 'y', 'incy']\n",
      "sger\t['order', 'm', 'n', 'alpha', 'x', 'incx', 'y', 'incy', 'a', 'lda']\n",
      "dger\t['order', 'm', 'n', 'alpha', 'x', 'incx', 'y', 'incy', 'a', 'lda']\n",
      "cgeru\t['order', 'm', 'n', 'alpha', 'x', 'incx', 'y', 'incy', 'a', 'lda']\n",
      "cgerc\t['order', 'm', 'n', 'alpha', 'x', 'incx', 'y', 'incy', 'a', 'lda']\n",
      "zgeru\t['order', 'm', 'n', 'alpha', 'x', 'incx', 'y', 'incy', 'a', 'lda']\n",
      "zgerc\t['order', 'm', 'n', 'alpha', 'x', 'incx', 'y', 'incy', 'a', 'lda']\n",
      "sgemm\t['order', 'transa', 'transb', 'm', 'n', 'k', 'alpha', 'a', 'lda', 'b', 'ldb', 'beta', 'c', 'ldc']\n",
      "dgemm\t['order', 'transa', 'transb', 'm', 'n', 'k', 'alpha', 'a', 'lda', 'b', 'ldb', 'beta', 'c', 'ldc']\n",
      "cgemm\t['order', 'transa', 'transb', 'm', 'n', 'k', 'alpha', 'a', 'lda', 'b', 'ldb', 'beta', 'c', 'ldc']\n",
      "cgemm3m\t['order', 'transa', 'transb', 'm', 'n', 'k', 'alpha', 'a', 'lda', 'b', 'ldb', 'beta', 'c', 'ldc']\n",
      "zgemm\t['order', 'transa', 'transb', 'm', 'n', 'k', 'alpha', 'a', 'lda', 'b', 'ldb', 'beta', 'c', 'ldc']\n",
      "zgemm3m\t['order', 'transa', 'transb', 'm', 'n', 'k', 'alpha', 'a', 'lda', 'b', 'ldb', 'beta', 'c', 'ldc']\n",
      "stbmv\t['order', 'uplo', 'transa', 'diag', 'n', 'k', 'a', 'lda', 'x', 'incx']\n",
      "dtbmv\t['order', 'uplo', 'transa', 'diag', 'n', 'k', 'a', 'lda', 'x', 'incx']\n",
      "ctbmv\t['order', 'uplo', 'transa', 'diag', 'n', 'k', 'a', 'lda', 'x', 'incx']\n",
      "ztbmv\t['order', 'uplo', 'transa', 'diag', 'n', 'k', 'a', 'lda', 'x', 'incx']\n",
      "stbsv\t['order', 'uplo', 'transa', 'diag', 'n', 'k', 'a', 'lda', 'x', 'incx']\n",
      "dtbsv\t['order', 'uplo', 'transa', 'diag', 'n', 'k', 'a', 'lda', 'x', 'incx']\n",
      "ctbsv\t['order', 'uplo', 'transa', 'diag', 'n', 'k', 'a', 'lda', 'x', 'incx']\n",
      "ztbsv\t['order', 'uplo', 'transa', 'diag', 'n', 'k', 'a', 'lda', 'x', 'incx']\n",
      "stpmv\t['order', 'uplo', 'transa', 'diag', 'n', 'ap', 'x', 'incx']\n",
      "dtpmv\t['order', 'uplo', 'transa', 'diag', 'n', 'ap', 'x', 'incx']\n",
      "ctpmv\t['order', 'uplo', 'transa', 'diag', 'n', 'ap', 'x', 'incx']\n",
      "ztpmv\t['order', 'uplo', 'transa', 'diag', 'n', 'ap', 'x', 'incx']\n",
      "stpsv\t['order', 'uplo', 'transa', 'diag', 'n', 'ap', 'x', 'incx']\n",
      "dtpsv\t['order', 'uplo', 'transa', 'diag', 'n', 'ap', 'x', 'incx']\n",
      "ctpsv\t['order', 'uplo', 'transa', 'diag', 'n', 'ap', 'x', 'incx']\n",
      "ztpsv\t['order', 'uplo', 'transa', 'diag', 'n', 'ap', 'x', 'incx']\n",
      "ssymv\t['order', 'uplo', 'n', 'alpha', 'a', 'lda', 'x', 'incx', 'beta', 'y', 'incy']\n",
      "dsymv\t['order', 'uplo', 'n', 'alpha', 'a', 'lda', 'x', 'incx', 'beta', 'y', 'incy']\n",
      "chemv\t['order', 'uplo', 'n', 'alpha', 'a', 'lda', 'x', 'incx', 'beta', 'y', 'incy']\n",
      "zhemv\t['order', 'uplo', 'n', 'alpha', 'a', 'lda', 'x', 'incx', 'beta', 'y', 'incy']\n",
      "sspmv\t['order', 'uplo', 'n', 'alpha', 'ap', 'x', 'incx', 'beta', 'y', 'incy']\n",
      "dspmv\t['order', 'uplo', 'n', 'alpha', 'ap', 'x', 'incx', 'beta', 'y', 'incy']\n",
      "chpmv\t['order', 'uplo', 'n', 'alpha', 'ap', 'x', 'incx', 'beta', 'y', 'incy']\n",
      "zhpmv\t['order', 'uplo', 'n', 'alpha', 'ap', 'x', 'incx', 'beta', 'y', 'incy']\n",
      "chemm\t['order', 'side', 'uplo', 'm', 'n', 'alpha', 'a', 'lda', 'b', 'ldb', 'beta', 'c', 'ldc']\n",
      "zhemm\t['order', 'side', 'uplo', 'm', 'n', 'alpha', 'a', 'lda', 'b', 'ldb', 'beta', 'c', 'ldc']\n",
      "cherk\t['order', 'uplo', 'trans', 'n', 'k', 'alpha', 'a', 'lda', 'beta', 'c', 'ldc']\n",
      "zherk\t['order', 'uplo', 'trans', 'n', 'k', 'alpha', 'a', 'lda', 'beta', 'c', 'ldc']\n",
      "cher2k\t['order', 'uplo', 'trans', 'n', 'k', 'alpha', 'a', 'lda', 'b', 'ldb', 'beta', 'c', 'ldc']\n",
      "zher2k\t['order', 'uplo', 'trans', 'n', 'k', 'alpha', 'a', 'lda', 'b', 'ldb', 'beta', 'c', 'ldc']\n",
      "ssymm\t['order', 'side', 'uplo', 'm', 'n', 'alpha', 'a', 'lda', 'b', 'ldb', 'beta', 'c', 'ldc']\n",
      "dsymm\t['order', 'side', 'uplo', 'm', 'n', 'alpha', 'a', 'lda', 'b', 'ldb', 'beta', 'c', 'ldc']\n",
      "csymm\t['order', 'side', 'uplo', 'm', 'n', 'alpha', 'a', 'lda', 'b', 'ldb', 'beta', 'c', 'ldc']\n",
      "zsymm\t['order', 'side', 'uplo', 'm', 'n', 'alpha', 'a', 'lda', 'b', 'ldb', 'beta', 'c', 'ldc']\n",
      "ssyr\t['order', 'uplo', 'n', 'alpha', 'x', 'incx', 'a', 'lda']\n",
      "dsyr\t['order', 'uplo', 'n', 'alpha', 'x', 'incx', 'a', 'lda']\n",
      "cher\t['order', 'uplo', 'n', 'alpha', 'x', 'incx', 'a', 'lda']\n",
      "zher\t['order', 'uplo', 'n', 'alpha', 'x', 'incx', 'a', 'lda']\n",
      "ssyrk\t['order', 'uplo', 'trans', 'n', 'k', 'alpha', 'a', 'lda', 'beta', 'c', 'ldc']\n",
      "dsyrk\t['order', 'uplo', 'trans', 'n', 'k', 'alpha', 'a', 'lda', 'beta', 'c', 'ldc']\n",
      "csyrk\t['order', 'uplo', 'trans', 'n', 'k', 'alpha', 'a', 'lda', 'beta', 'c', 'ldc']\n",
      "zsyrk\t['order', 'uplo', 'trans', 'n', 'k', 'alpha', 'a', 'lda', 'beta', 'c', 'ldc']\n",
      "ssyr2k\t['order', 'uplo', 'trans', 'n', 'k', 'alpha', 'a', 'lda', 'b', 'ldb', 'beta', 'c', 'ldc']\n",
      "dsyr2k\t['order', 'uplo', 'trans', 'n', 'k', 'alpha', 'a', 'lda', 'b', 'ldb', 'beta', 'c', 'ldc']\n",
      "csyr2k\t['order', 'uplo', 'trans', 'n', 'k', 'alpha', 'a', 'lda', 'b', 'ldb', 'beta', 'c', 'ldc']\n",
      "zsyr2k\t['order', 'uplo', 'trans', 'n', 'k', 'alpha', 'a', 'lda', 'b', 'ldb', 'beta', 'c', 'ldc']\n",
      "sspr2\t['order', 'uplo', 'n', 'alpha', 'x', 'incx', 'y', 'incy', 'a']\n",
      "dspr2\t['order', 'uplo', 'n', 'alpha', 'x', 'incx', 'y', 'incy', 'a']\n",
      "chpr2\t['order', 'uplo', 'n', 'alpha', 'x', 'incx', 'y', 'incy', 'ap']\n",
      "zhpr2\t['order', 'uplo', 'n', 'alpha', 'x', 'incx', 'y', 'incy', 'ap']\n",
      "strsm\t['order', 'side', 'uplo', 'transa', 'diag', 'm', 'n', 'alpha', 'a', 'lda', 'b', 'ldb']\n",
      "dtrsm\t['order', 'side', 'uplo', 'transa', 'diag', 'm', 'n', 'alpha', 'a', 'lda', 'b', 'ldb']\n",
      "ctrsm\t['order', 'side', 'uplo', 'transa', 'diag', 'm', 'n', 'alpha', 'a', 'lda', 'b', 'ldb']\n",
      "ztrsm\t['order', 'side', 'uplo', 'transa', 'diag', 'm', 'n', 'alpha', 'a', 'lda', 'b', 'ldb']\n",
      "cher2k\t['order', 'uplo', 'trans', 'n', 'k', 'alpha', 'a', 'lda', 'b', 'ldb', 'beta', 'c', 'ldc']\n",
      "zher2k\t['order', 'uplo', 'trans', 'n', 'k', 'alpha', 'a', 'lda', 'b', 'ldb', 'beta', 'c', 'ldc']\n",
      "chbmv\t['order', 'uplo', 'n', 'k', 'alpha', 'a', 'lda', 'x', 'incx', 'beta', 'y', 'incy']\n",
      "zhbmv\t['order', 'uplo', 'n', 'k', 'alpha', 'a', 'lda', 'x', 'incx', 'beta', 'y', 'incy']\n",
      "cher2k\t['order', 'uplo', 'trans', 'n', 'k', 'alpha', 'a', 'lda', 'b', 'ldb', 'beta', 'c', 'ldc']\n",
      "zher2k\t['order', 'uplo', 'trans', 'n', 'k', 'alpha', 'a', 'lda', 'b', 'ldb', 'beta', 'c', 'ldc']\n",
      "snrm2\t['n', 'x', 'incx']\n",
      "dnrm2\t['n', 'x', 'incx']\n",
      "scnrm2\t['n', 'x', 'incx']\n",
      "dznrm2\t['n', 'x', 'incx']\n",
      "strmm\t['order', 'side', 'uplo', 'transa', 'diag', 'm', 'n', 'alpha', 'a', 'lda', 'b', 'ldb']\n",
      "dtrmm\t['order', 'side', 'uplo', 'transa', 'diag', 'm', 'n', 'alpha', 'a', 'lda', 'b', 'ldb']\n",
      "ctrmm\t['order', 'side', 'uplo', 'transa', 'diag', 'm', 'n', 'alpha', 'a', 'lda', 'b', 'ldb']\n",
      "ztrmm\t['order', 'side', 'uplo', 'transa', 'diag', 'm', 'n', 'alpha', 'a', 'lda', 'b', 'ldb']\n",
      "sgbmv\t['order', 'transa', 'm', 'n', 'kl', 'ku', 'alpha', 'a', 'lda', 'x', 'incx', 'beta', 'y', 'incy']\n",
      "dgbmv\t['order', 'transa', 'm', 'n', 'kl', 'ku', 'alpha', 'a', 'lda', 'x', 'incx', 'beta', 'y', 'incy']\n",
      "cgbmv\t['order', 'transa', 'm', 'n', 'kl', 'ku', 'alpha', 'a', 'lda', 'x', 'incx', 'beta', 'y', 'incy']\n",
      "zgbmv\t['order', 'transa', 'm', 'n', 'kl', 'ku', 'alpha', 'a', 'lda', 'x', 'incx', 'beta', 'y', 'incy']\n",
      "snrm2\t['n', 'x', 'incx']\n",
      "dnrm2\t['n', 'x', 'incx']\n",
      "scnrm2\t['n', 'x', 'incx']\n",
      "dznrm2\t['n', 'x', 'incx']\n",
      "ssyr2\t['order', 'uplo', 'n', 'alpha', 'x', 'incx', 'y', 'incy', 'a', 'lda']\n",
      "dsyr2\t['order', 'uplo', 'n', 'alpha', 'x', 'incx', 'y', 'incy', 'a', 'lda']\n",
      "cher2\t['order', 'uplo', 'n', 'alpha', 'x', 'incx', 'y', 'incy', 'a', 'lda']\n",
      "zher2\t['order', 'uplo', 'n', 'alpha', 'x', 'incx', 'y', 'incy', 'a', 'lda']\n",
      "sspr\t['order', 'uplo', 'n', 'alpha', 'x', 'incx', 'ap']\n",
      "dspr\t['order', 'uplo', 'n', 'alpha', 'x', 'incx', 'ap']\n",
      "strmv\t['order', 'uplo', 'transa', 'diag', 'n', 'a', 'lda', 'x', 'incx']\n",
      "dtrmv\t['order', 'uplo', 'transa', 'diag', 'n', 'a', 'lda', 'x', 'incx']\n",
      "ctrmv\t['order', 'uplo', 'transa', 'diag', 'n', 'a', 'lda', 'x', 'incx']\n",
      "ztrmv\t['order', 'uplo', 'transa', 'diag', 'n', 'a', 'lda', 'x', 'incx']\n",
      "ssbmv\t['order', 'uplo', 'n', 'k', 'alpha', 'a', 'lda', 'x', 'incx', 'beta', 'y', 'incy']\n",
      "dsbmv\t['order', 'uplo', 'n', 'k', 'alpha', 'a', 'lda', 'x', 'incx', 'beta', 'y', 'incy']\n",
      "chpr\t['order', 'uplo', 'n', 'alpha', 'x', 'incx', 'a']\n",
      "zhpr\t['order', 'uplo', 'n', 'alpha', 'x', 'incx', 'a']\n"
     ]
    }
   ],
   "source": [
    "import json\n",
    "import lib.c_fct as c_fct\n",
    "j = None\n",
    "\n",
    "with open('data/blases.json') as f:\n",
    "    j = json.load(f)\n",
    "    f.close()\n",
    "\n",
    "    \n",
    "c_fcts = c_fct.fcts_in(\"data/blas.h\")"
   ]
  },
  {
   "attachments": {},
   "cell_type": "markdown",
   "metadata": {},
   "source": [
    "### Generating tests"
   ]
  },
  {
   "cell_type": "code",
   "execution_count": 14,
   "metadata": {},
   "outputs": [
    {
     "name": "stdout",
     "output_type": "stream",
     "text": [
      "saxpy [10, 2, [1, 3, -2, 4, 3, 1, 5, 23, -2, 6], 1, [5, 8, 2, -9, 2, 123, -5, 23, 6, 5], 1]\n",
      "daxpy [10, 2, [1, 3, -2, 4, 3, 1, 5, 23, -2, 6], 1, [5, 8, 2, -9, 2, 123, -5, 23, 6, 5], 1]\n",
      "caxpy [5, 2, [1, 3, -2, 4, 3, 1, 5, 23, -2, 6], 1, [5, 8, 2, -9, 2, 123, -5, 23, 6, 5], 1]\n",
      "zaxpy [5, 2, [1, 3, -2, 4, 3, 1, 5, 23, -2, 6], 1, [5, 8, 2, -9, 2, 123, -5, 23, 6, 5], 1]\n",
      "[4.+0.j 6.+0.j]\n"
     ]
    }
   ],
   "source": [
    "import json\n",
    "import lib.c_fct as c_fct\n",
    "import copy\n",
    "import scipy.linalg.blas as blas\n",
    "\n",
    "j = None\n",
    "\n",
    "with open('data/vars.json') as f_vars:\n",
    "    vars = json.load(f_vars)\n",
    "\n",
    "def build_vars(names):\n",
    "    return copy.deepcopy([vars[name] if isinstance(name, str) else name for name in names])\n",
    "\n",
    "\n",
    "with open('data/test_cases.json') as f_test:\n",
    "    tests = json.load(f_test)\n",
    "    for fct in tests.keys():\n",
    "        print(f'{fct} {build_vars(tests[fct])}')\n",
    "\n",
    "print(blas.caxpy([1,2],[3,4]))\n"
   ]
  },
  {
   "cell_type": "code",
   "execution_count": 5,
   "metadata": {},
   "outputs": [
    {
     "name": "stdout",
     "output_type": "stream",
     "text": [
      "[ 4.+0.j  0.+0.j  3.+0.j -6.+0.j]\n"
     ]
    }
   ],
   "source": [
    "import json\n",
    "import lib.c_fct as c_fct\n",
    "import copy\n",
    "import scipy.linalg.blas as blas\n",
    "\n",
    "x= [1,-2,3,-4]\n",
    "y= [3,2,0,-2]\n",
    "\n",
    "print(blas.caxpy(x,y,a=[1,0]))"
   ]
  },
  {
   "cell_type": "code",
   "execution_count": 7,
   "metadata": {},
   "outputs": [
    {
     "name": "stdout",
     "output_type": "stream",
     "text": [
      "[4.+0.j 3.-6.j]\n"
     ]
    }
   ],
   "source": [
    "import json\n",
    "import lib.c_fct as c_fct\n",
    "import copy\n",
    "import scipy.linalg.blas as blas\n",
    "\n",
    "x= [1+(-2j),3+(-4j)]\n",
    "y= [3+2j,-2j]\n",
    "\n",
    "print(blas.caxpy(x,y,a=1))"
   ]
  }
 ],
 "metadata": {
  "kernelspec": {
   "display_name": "Python 3",
   "language": "python",
   "name": "python3"
  },
  "language_info": {
   "codemirror_mode": {
    "name": "ipython",
    "version": 3
   },
   "file_extension": ".py",
   "mimetype": "text/x-python",
   "name": "python",
   "nbconvert_exporter": "python",
   "pygments_lexer": "ipython3",
   "version": "3.10.6"
  },
  "orig_nbformat": 4,
  "vscode": {
   "interpreter": {
    "hash": "916dbcbb3f70747c44a77c7bcd40155683ae19c65e1c03b4aa3499c5328201f1"
   }
  }
 },
 "nbformat": 4,
 "nbformat_minor": 2
}
